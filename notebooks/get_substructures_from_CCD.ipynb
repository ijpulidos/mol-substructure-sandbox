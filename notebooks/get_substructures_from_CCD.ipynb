{
 "cells": [
  {
   "cell_type": "code",
   "execution_count": 1,
   "id": "53d91ed4-6259-4bc5-8a5a-ef97e981cffd",
   "metadata": {},
   "outputs": [
    {
     "name": "stderr",
     "output_type": "stream",
     "text": [
      "Warning: Unable to load toolkit 'OpenEye Toolkit'. The Open Force Field Toolkit does not require the OpenEye Toolkits, and can use RDKit/AmberTools instead. However, if you have a valid license for the OpenEye Toolkits, consider installing them for faster performance and additional file format support: https://docs.eyesopen.com/toolkits/python/quickstart-python/linuxosx.html OpenEye offers free Toolkit licenses for academics: https://www.eyesopen.com/academic-licensing\n"
     ]
    }
   ],
   "source": [
    "from CifFile import ReadCif\n",
    "from mendeleev import element\n",
    "from openff.toolkit.topology import Atom, Molecule, Bond\n",
    "from Bio.PDB import MMCIF2Dict, MMCIFParser"
   ]
  },
  {
   "cell_type": "code",
   "execution_count": 47,
   "id": "695573ca-bae1-4741-af53-0fc5cb2ca3e7",
   "metadata": {},
   "outputs": [],
   "source": [
    "# Helper functions and objects\n",
    "\n",
    "# bond order dictionary translation from mmcif\n",
    "bond_order_dict = {\n",
    "    'SING': 1,\n",
    "    'DOUB': 2,\n",
    "    'TRIP': 3,\n",
    "    'QUAD': 4\n",
    "}\n",
    "\n",
    "\n",
    "def get_atom_by_name(molecule, name: str):\n",
    "    \"\"\"Gets first occurrence of atom object from a molecule by its name.\"\"\"\n",
    "    for atom in molecule.atoms:\n",
    "        if atom.name == name:\n",
    "            match = atom\n",
    "            break\n",
    "    else:\n",
    "        match = None\n",
    "    return match"
   ]
  },
  {
   "cell_type": "code",
   "execution_count": 23,
   "id": "4e4a9f2b-064d-4245-bbac-d473738065d7",
   "metadata": {},
   "outputs": [],
   "source": [
    "# Read the cif data file\n",
    "cif_data = MMCIF2Dict.MMCIF2Dict('/home/mefisto/workdir/ChoderaLab/data/TEST_ALA-variant.cif')"
   ]
  },
  {
   "cell_type": "code",
   "execution_count": 24,
   "id": "f294ad41-f3da-41e2-87c7-09f432393208",
   "metadata": {},
   "outputs": [
    {
     "data": {
      "text/plain": [
       "{'N': 7, 'C': 6, 'O': 8, 'H': 1}"
      ]
     },
     "execution_count": 24,
     "metadata": {},
     "output_type": "execute_result"
    }
   ],
   "source": [
    "# Dictionary symbols to atomic number\n",
    "atom_symbol_list = cif_data['_chem_comp_atom.type_symbol']\n",
    "elements = element(atom_symbol_list)\n",
    "atomic_nums_list = []\n",
    "for element_ in elements:\n",
    "    atomic_nums_list.append(element_.atomic_number)\n",
    "# Create dictionary\n",
    "symbol_to_num_dict = {symbol: number for symbol, number in zip(atom_symbol_list, atomic_nums_list)}\n",
    "symbol_to_num_dict"
   ]
  },
  {
   "cell_type": "markdown",
   "id": "8f759c63-0aed-4a2a-939a-8889ef618ab9",
   "metadata": {},
   "source": [
    "# Creating OFF molecule from cif data"
   ]
  },
  {
   "cell_type": "code",
   "execution_count": 56,
   "id": "5cb96edb-d66e-446c-9a1e-f9d378eedf20",
   "metadata": {},
   "outputs": [
    {
     "name": "stdout",
     "output_type": "stream",
     "text": [
      "['N', 'CA', 'C', 'O', 'CB', 'OXT', 'H', 'H2', 'HA', 'HB1', 'HB2', 'HB3', 'HXT']\n",
      "[7, 6, 6, 8, 6, 8, 1, 1, 1, 1, 1, 1, 1]\n",
      "[0, 0, 0, 0, 0, 0, 0, 0, 0, 0, 0, 0, 0]\n",
      "[False, False, False, False, False, False, False, False, False, False, False, False, False]\n",
      "[None, 'S', None, None, None, None, None, None, None, None, None, None, None]\n",
      "\n",
      "['N', 'N', 'N', 'CA', 'CA', 'CA', 'C', 'C', 'CB', 'CB', 'CB', 'OXT']\n",
      "['CA', 'H', 'H2', 'C', 'CB', 'HA', 'O', 'OXT', 'HB1', 'HB2', 'HB3', 'HXT']\n",
      "[1, 1, 1, 1, 1, 1, 2, 1, 1, 1, 1, 1]\n",
      "[False, False, False, False, False, False, False, False, False, False, False, False]\n",
      "[None, None, None, None, None, None, None, None, None, None, None, None]\n"
     ]
    }
   ],
   "source": [
    "# create empty molecule to fill with data\n",
    "offmol = Molecule()\n",
    "# Gather necessary data for creating/adding atoms\n",
    "names = cif_data['_chem_comp_atom.atom_id']\n",
    "atomic_numbers = [symbol_to_num_dict[x] for x in cif_data['_chem_comp_atom.type_symbol']]\n",
    "formal_charges = [int(x) for x in cif_data['_chem_comp_atom.charge']]\n",
    "is_aromatic = [False if x=='N' else True for x in cif_data['_chem_comp_atom.pdbx_aromatic_flag']]\n",
    "stereochemistry = [None if x == 'N' else x for x in cif_data['_chem_comp_atom.pdbx_stereo_config']]\n",
    "# add atoms\n",
    "# offmol.add_atom(\n",
    "#     atomic_number,\n",
    "#     formal_charge,\n",
    "#     is_aromatic,\n",
    "#     stereochemistry=None,\n",
    "#     name=None,\n",
    "# )\n",
    "for atom_idx in range(len(names)):\n",
    "    offmol.add_atom(atomic_numbers[atom_idx], \n",
    "                    formal_charges[atom_idx], \n",
    "                    is_aromatic[atom_idx], \n",
    "                    stereochemistry=stereochemistry[atom_idx],\n",
    "                    name=names[atom_idx]\n",
    "                   )\n",
    "# Print atoms information -- debugging\n",
    "print(names)\n",
    "print(atomic_numbers)\n",
    "print(formal_charges)\n",
    "print(is_aromatic)\n",
    "print(stereochemistry)\n",
    "# Gather information for bonds\n",
    "atom1_name_list = cif_data['_chem_comp_bond.atom_id_1']\n",
    "atom2_name_list = cif_data['_chem_comp_bond.atom_id_2']\n",
    "bond_order_list = [bond_order_dict[x] for x in cif_data['_chem_comp_bond.value_order']]\n",
    "is_aromatic_bond_list = [False if x=='N' else True for x in cif_data['_chem_comp_bond.pdbx_aromatic_flag']]\n",
    "stereochemistry_bond_list = [None if x == 'N' else x for x in cif_data['_chem_comp_bond.pdbx_stereo_config']]\n",
    "# TODO: What about fractional bond order?\n",
    "# add bonds\n",
    "# offmol.add_bond(\n",
    "#     atom1,\n",
    "#     atom2,\n",
    "#     bond_order,\n",
    "#     is_aromatic,\n",
    "#     stereochemistry=None,\n",
    "#     fractional_bond_order=None,\n",
    "# )\n",
    "for atom_idx in range(len(atom1_name_list)):\n",
    "    offmol.add_bond(get_atom_by_name(offmol, atom1_name_list[atom_idx]),\n",
    "                    get_atom_by_name(offmol, atom2_name_list[atom_idx]),\n",
    "                    bond_order_list[atom_idx],\n",
    "                    is_aromatic_bond_list[atom_idx],\n",
    "                    stereochemistry=stereochemistry_bond_list[atom_idx]\n",
    "                   )\n",
    "# Print bonds information -- debugging\n",
    "print()\n",
    "print(atom1_name_list)\n",
    "print(atom2_name_list)\n",
    "print(bond_order_list)\n",
    "print(is_aromatic_bond_list)\n",
    "print(stereochemistry_bond_list)"
   ]
  },
  {
   "cell_type": "code",
   "execution_count": 57,
   "id": "d4717d08-7f76-4725-8eb2-72ae0dec9fdf",
   "metadata": {},
   "outputs": [
    {
     "data": {
      "image/png": "[encoded data removed]",
      "text/plain": [
       "<rdkit.Chem.rdchem.Mol at 0x7ff59dfe7040>"
      ]
     },
     "metadata": {},
     "output_type": "display_data"
    }
   ],
   "source": [
    "offmol"
   ]
  },
  {
   "cell_type": "markdown",
   "id": "478c59f7-a125-4a17-9aa5-f692b81239d4",
   "metadata": {},
   "source": [
    "# TODO: Remove leaving_atom_flag atoms!"
   ]
  },
  {
   "cell_type": "code",
   "execution_count": null,
   "id": "32ea1700-5359-4b7a-adab-4ccf8cdc87de",
   "metadata": {},
   "outputs": [],
   "source": []
  }
 ],
 "metadata": {
  "kernelspec": {
   "display_name": "Python 3",
   "language": "python",
   "name": "python3"
  },
  "language_info": {
   "codemirror_mode": {
    "name": "ipython",
    "version": 3
   },
   "file_extension": ".py",
   "mimetype": "text/x-python",
   "name": "python",
   "nbconvert_exporter": "python",
   "pygments_lexer": "ipython3",
   "version": "3.8.8"
  }
 },
 "nbformat": 4,
 "nbformat_minor": 5
}
